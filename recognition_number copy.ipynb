{
 "cells": [
  {
   "cell_type": "code",
   "execution_count": 1,
   "metadata": {},
   "outputs": [],
   "source": [
    "import numpy as np\n",
    "import pandas as pd\n",
    "import scipy.special\n",
    "import matplotlib.pyplot as plt\n",
    "\n",
    "from Network import NeuralNetwork\n",
    "\n",
    "from sklearn.model_selection import train_test_split"
   ]
  },
  {
   "cell_type": "markdown",
   "metadata": {},
   "source": [
    "## Установка занчений нейронной сети"
   ]
  },
  {
   "cell_type": "code",
   "execution_count": 2,
   "metadata": {},
   "outputs": [],
   "source": [
    "input_nodes = 784\n",
    "hidden_nodes = 200\n",
    "output_nodes = 10\n",
    "learning_rate = 0.2"
   ]
  },
  {
   "cell_type": "markdown",
   "metadata": {},
   "source": [
    "## Создание нейрона"
   ]
  },
  {
   "cell_type": "code",
   "execution_count": 3,
   "metadata": {},
   "outputs": [],
   "source": [
    "n = NeuralNetwork(input_nodes, hidden_nodes, output_nodes, learning_rate)"
   ]
  },
  {
   "cell_type": "markdown",
   "metadata": {},
   "source": [
    "## Загрузка данных"
   ]
  },
  {
   "cell_type": "code",
   "execution_count": 4,
   "metadata": {},
   "outputs": [],
   "source": [
    "seed = 2020\n",
    "test_size = 0.1\n",
    "\n",
    "with open(\"mnist_train.csv\", 'r') as f:\n",
    "    data = f.readlines()\n",
    "\n",
    "data = data[1:]\n",
    "\n",
    "train_data, test_data = train_test_split(data, test_size=test_size, random_state=seed)\n"
   ]
  },
  {
   "cell_type": "markdown",
   "metadata": {},
   "source": [
    "## Предобработка данных"
   ]
  },
  {
   "cell_type": "markdown",
   "metadata": {},
   "source": [
    "Отделяем целевую переменную от списка MNIST, оставшуюся строку переводим в массив float и приводим к диапазону (0, 1)"
   ]
  },
  {
   "cell_type": "code",
   "execution_count": 5,
   "metadata": {},
   "outputs": [],
   "source": [
    "def preparation(str_matrix):\n",
    "    f_matrix = []\n",
    "\n",
    "    targets = []\n",
    "\n",
    "    for line in str_matrix:\n",
    "        target = np.zeros(output_nodes) + 0.1\n",
    "        target[int(line[0])] = 0.99\n",
    "        targets.append(target)\n",
    "        line = line.split(',')\n",
    "        data = (np.asfarray(line[1:]) / 255.0 * 0.99) + 0.1\n",
    "        f_matrix.append(data)\n",
    "    \n",
    "    return f_matrix, targets"
   ]
  },
  {
   "cell_type": "code",
   "execution_count": 6,
   "metadata": {},
   "outputs": [],
   "source": [
    "matrix, targets = preparation(train_data)\n"
   ]
  },
  {
   "cell_type": "markdown",
   "metadata": {},
   "source": [
    "## Тренировка"
   ]
  },
  {
   "cell_type": "code",
   "execution_count": 7,
   "metadata": {},
   "outputs": [],
   "source": [
    "ephos = 5\n",
    "\n",
    "# for e in range(ephos):\n",
    "#     print(e)\n",
    "for index, row in enumerate(matrix):\n",
    "    n.train(row, targets[index])"
   ]
  },
  {
   "cell_type": "markdown",
   "metadata": {},
   "source": [
    "# Проверка"
   ]
  },
  {
   "cell_type": "markdown",
   "metadata": {},
   "source": [
    "## Подгтовка тестовых данных"
   ]
  },
  {
   "cell_type": "code",
   "execution_count": 8,
   "metadata": {},
   "outputs": [],
   "source": [
    "test_matrix, test_targets = preparation(train_data)"
   ]
  },
  {
   "cell_type": "code",
   "execution_count": 9,
   "metadata": {},
   "outputs": [],
   "source": [
    "scorecard = []\n",
    "\n",
    "for i, row in enumerate(test_matrix):\n",
    "    output = n.query(row)\n",
    "    correct_label = np.argmax(test_targets[i])\n",
    "    predict_label = np.argmax(output)\n",
    "\n",
    "    if correct_label == predict_label:\n",
    "        scorecard.append(1)\n",
    "    else:\n",
    "        scorecard.append(0)"
   ]
  },
  {
   "cell_type": "code",
   "execution_count": 10,
   "metadata": {},
   "outputs": [
    {
     "name": "stdout",
     "output_type": "stream",
     "text": "эффективность = 0.9522037037037037\n"
    }
   ],
   "source": [
    "scorecard_array = np.array(scorecard)\n",
    "print(\"эффективность =\", scorecard_array.sum() / scorecard_array.size)"
   ]
  },
  {
   "cell_type": "markdown",
   "metadata": {},
   "source": [
    "# Первоначальное задание"
   ]
  },
  {
   "cell_type": "code",
   "execution_count": 38,
   "metadata": {},
   "outputs": [],
   "source": [
    "import numpy as np\n",
    "import pandas as pd\n",
    "import scipy.special\n",
    "import matplotlib.pyplot as plt\n",
    "\n",
    "from Network import NeuralNetwork\n",
    "\n",
    "from sklearn.model_selection import train_test_split"
   ]
  },
  {
   "cell_type": "code",
   "execution_count": 81,
   "metadata": {},
   "outputs": [],
   "source": [
    "input_nodes = 25\n",
    "hidden_nodes = 15\n",
    "output_nodes = 10\n",
    "learning_rate = 0.1"
   ]
  },
  {
   "cell_type": "code",
   "execution_count": 82,
   "metadata": {},
   "outputs": [],
   "source": [
    "n = NeuralNetwork(input_nodes, hidden_nodes, output_nodes, learning_rate)"
   ]
  },
  {
   "cell_type": "code",
   "execution_count": 83,
   "metadata": {},
   "outputs": [],
   "source": [
    "with open(\"number.csv\", 'r') as f:\n",
    "    data = f.readlines()\n",
    "\n",
    "data = data[1:]\n",
    "\n",
    "train_data = data\n"
   ]
  },
  {
   "cell_type": "code",
   "execution_count": 84,
   "metadata": {},
   "outputs": [],
   "source": [
    "def preparation(str_matrix):\n",
    "    f_matrix = []\n",
    "\n",
    "    targets = []\n",
    "\n",
    "    for line in str_matrix:\n",
    "        target = np.zeros(output_nodes) + 0.1\n",
    "        target[int(line[0])] = 0.99\n",
    "        targets.append(target)\n",
    "        line = line.split(',')\n",
    "        data = (np.asfarray(line[1:]) / 1.0 * 0.99) + 0.1\n",
    "        f_matrix.append(data)\n",
    "    \n",
    "    return f_matrix, targets"
   ]
  },
  {
   "cell_type": "code",
   "execution_count": 85,
   "metadata": {},
   "outputs": [],
   "source": [
    "matrix, targets = preparation(train_data)"
   ]
  },
  {
   "cell_type": "code",
   "execution_count": 86,
   "metadata": {},
   "outputs": [],
   "source": [
    "ephos = 500\n",
    "\n",
    "for e in range(ephos):\n",
    "\n",
    "    for index, row in enumerate(matrix):\n",
    "        n.train(row, targets[index])"
   ]
  },
  {
   "cell_type": "code",
   "execution_count": 87,
   "metadata": {},
   "outputs": [
    {
     "name": "stdout",
     "output_type": "stream",
     "text": "want - 0, have - 0\nwant - 1, have - 1\nwant - 2, have - 2\nwant - 3, have - 3\nwant - 4, have - 4\nwant - 5, have - 5\nwant - 6, have - 6\nwant - 7, have - 7\nwant - 8, have - 8\nwant - 9, have - 9\n"
    }
   ],
   "source": [
    "for i in range(10):\n",
    "    output = n.query(matrix[i])\n",
    "    correct_label = np.argmax(targets[i])\n",
    "    predict_label = np.argmax(output)\n",
    "    print(\"want - {}, have - {}\".format(str(correct_label), str(predict_label)))"
   ]
  },
  {
   "cell_type": "code",
   "execution_count": null,
   "metadata": {},
   "outputs": [],
   "source": []
  }
 ],
 "metadata": {
  "kernelspec": {
   "display_name": "Python 3",
   "language": "python",
   "name": "python3"
  },
  "language_info": {
   "codemirror_mode": {
    "name": "ipython",
    "version": 3
   },
   "file_extension": ".py",
   "mimetype": "text/x-python",
   "name": "python",
   "nbconvert_exporter": "python",
   "pygments_lexer": "ipython3",
   "version": "3.7.4-final"
  }
 },
 "nbformat": 4,
 "nbformat_minor": 4
}